{
  "nbformat": 4,
  "nbformat_minor": 0,
  "metadata": {
    "colab": {
      "name": "Pencil_Word_Predictor.ipynb",
      "provenance": []
    },
    "kernelspec": {
      "name": "python3",
      "display_name": "Python 3"
    },
    "accelerator": "GPU"
  },
  "cells": [
    {
      "cell_type": "code",
      "metadata": {
        "id": "ocP17B_Oxai-",
        "colab_type": "code",
        "colab": {
          "base_uri": "https://localhost:8080/",
          "height": 51
        },
        "outputId": "56d0fd96-6082-4921-93a1-3436c6c1d33d"
      },
      "source": [
        "import tensorflow as tf\n",
        "import tensorflow_hub as hub\n",
        "import nltk\n",
        "nltk.download('punkt')\n",
        "import numpy as np\n",
        "import pandas as pd"
      ],
      "execution_count": 6,
      "outputs": [
        {
          "output_type": "stream",
          "text": [
            "[nltk_data] Downloading package punkt to /root/nltk_data...\n",
            "[nltk_data]   Unzipping tokenizers/punkt.zip.\n"
          ],
          "name": "stdout"
        }
      ]
    },
    {
      "cell_type": "markdown",
      "metadata": {
        "id": "TGONcRf50EWa",
        "colab_type": "text"
      },
      "source": [
        "# Overview"
      ]
    },
    {
      "cell_type": "markdown",
      "metadata": {
        "id": "OaKGFNwe0JIb",
        "colab_type": "text"
      },
      "source": [
        "In this notebook we train a next word prediction model based on Anne of Green Gables. Our approach is to use Universal Sentence Encoder to encode random lengths of text, and predict the next word using a neural network with one hidden layer."
      ]
    },
    {
      "cell_type": "markdown",
      "metadata": {
        "id": "NSdLKsVKyncd",
        "colab_type": "text"
      },
      "source": [
        "# Dataset Preparation"
      ]
    },
    {
      "cell_type": "markdown",
      "metadata": {
        "id": "3RGV7H69yVQs",
        "colab_type": "text"
      },
      "source": [
        "Use this to upload your desired training corpus"
      ]
    },
    {
      "cell_type": "code",
      "metadata": {
        "id": "DuY6ZosrDgpF",
        "colab_type": "code",
        "colab": {
          "base_uri": "https://localhost:8080/",
          "height": 122
        },
        "outputId": "9a849aaa-e2fa-4848-dcf7-578ef365f794"
      },
      "source": [
        "# for uploading anne.txt\n",
        "from google.colab import drive\n",
        "drive.mount('/content/drive')"
      ],
      "execution_count": 1,
      "outputs": [
        {
          "output_type": "stream",
          "text": [
            "Go to this URL in a browser: https://accounts.google.com/o/oauth2/auth?client_id=947318989803-6bn6qk8qdgf4n4g3pfee6491hc0brc4i.apps.googleusercontent.com&redirect_uri=urn%3aietf%3awg%3aoauth%3a2.0%3aoob&response_type=code&scope=email%20https%3a%2f%2fwww.googleapis.com%2fauth%2fdocs.test%20https%3a%2f%2fwww.googleapis.com%2fauth%2fdrive%20https%3a%2f%2fwww.googleapis.com%2fauth%2fdrive.photos.readonly%20https%3a%2f%2fwww.googleapis.com%2fauth%2fpeopleapi.readonly\n",
            "\n",
            "Enter your authorization code:\n",
            "··········\n",
            "Mounted at /content/drive\n"
          ],
          "name": "stdout"
        }
      ]
    },
    {
      "cell_type": "code",
      "metadata": {
        "id": "CGQzLlAGD3ny",
        "colab_type": "code",
        "colab": {}
      },
      "source": [
        "with open('/content/drive/My Drive/anne.txt', 'r') as f:\n",
        "  raw_text = f.read()"
      ],
      "execution_count": 0,
      "outputs": []
    },
    {
      "cell_type": "code",
      "metadata": {
        "id": "jB1oY8C52DTc",
        "colab_type": "code",
        "colab": {}
      },
      "source": [
        "def preprocess_text(raw_text):\n",
        "  words = nltk.word_tokenize(raw_text.lower())\n",
        "  words = [word for word in words if word.isalpha()]\n",
        "  "
      ],
      "execution_count": 0,
      "outputs": []
    },
    {
      "cell_type": "code",
      "metadata": {
        "id": "ML88u-kbkPjY",
        "colab_type": "code",
        "colab": {}
      },
      "source": [
        "words = nltk.word_tokenize(raw_text.lower())"
      ],
      "execution_count": 0,
      "outputs": []
    },
    {
      "cell_type": "code",
      "metadata": {
        "id": "n7WeK1Zvk3Kd",
        "colab_type": "code",
        "colab": {}
      },
      "source": [
        "# we remove words that contain punctuation, this might be too aggressive but it\n",
        "# significantly cleans up our dataset\n",
        "words = [word for word in words if word.isalpha()]"
      ],
      "execution_count": 0,
      "outputs": []
    },
    {
      "cell_type": "code",
      "metadata": {
        "id": "iXI2VxyPhs84",
        "colab_type": "code",
        "colab": {}
      },
      "source": [
        "# the unique words in the dataset will be our options for prediction\n",
        "unique_words = list(set(words))\n",
        "one_hot = pd.get_dummies(pd.Series(unique_words))"
      ],
      "execution_count": 0,
      "outputs": []
    },
    {
      "cell_type": "code",
      "metadata": {
        "id": "9-z_CGonwSUg",
        "colab_type": "code",
        "colab": {}
      },
      "source": [
        "encoder_url = \"https://tfhub.dev/google/universal-sentence-encoder/4\"\n",
        "universal_sentence_encoder = hub.load(encoder_url)"
      ],
      "execution_count": 0,
      "outputs": []
    },
    {
      "cell_type": "code",
      "metadata": {
        "id": "oP2l8Or23qS9",
        "colab_type": "code",
        "colab": {
          "base_uri": "https://localhost:8080/",
          "height": 34
        },
        "outputId": "5140f2ca-a83c-4b11-912f-22a239683c6e"
      },
      "source": [
        "len(words)"
      ],
      "execution_count": 14,
      "outputs": [
        {
          "output_type": "execute_result",
          "data": {
            "text/plain": [
              "104921"
            ]
          },
          "metadata": {
            "tags": []
          },
          "execution_count": 14
        }
      ]
    },
    {
      "cell_type": "code",
      "metadata": {
        "id": "YwxCFJGASfFS",
        "colab_type": "code",
        "colab": {}
      },
      "source": [
        "X = []\n",
        "y = []\n",
        "i = 2500 # start somewhere in the middle, there's > 100,000 words\n",
        "while i < 5000:#len(words): # we end off at 5000 to reduce trainng time\n",
        "  context = np.random.randint(1,10)\n",
        "  X.append(universal_sentence_encoder([' '.join(words[i-context:i])]))\n",
        "  y.append(one_hot[words[i]].values)\n",
        "  i += context\n",
        "\n",
        "X = np.squeeze(np.asarray(X))\n",
        "y = np.asarray(y)"
      ],
      "execution_count": 0,
      "outputs": []
    },
    {
      "cell_type": "markdown",
      "metadata": {
        "id": "_SLaPwVf1GXd",
        "colab_type": "text"
      },
      "source": [
        "# Modeling"
      ]
    },
    {
      "cell_type": "code",
      "metadata": {
        "id": "6CCNu0AcMUoo",
        "colab_type": "code",
        "colab": {}
      },
      "source": [
        "inputs = tf.keras.Input(shape=(512,)) # since USE takes text to a 512-D vector\n",
        "hidden = tf.keras.layers.Dense(50, activation=tf.nn.relu)(inputs)\n",
        "outputs = tf.keras.layers.Dense(len(unique_words), activation=tf.nn.softmax)(hidden)\n",
        "model = tf.keras.Model(inputs=inputs, outputs=outputs)"
      ],
      "execution_count": 0,
      "outputs": []
    },
    {
      "cell_type": "code",
      "metadata": {
        "id": "DyVVxjxiP1o3",
        "colab_type": "code",
        "colab": {
          "base_uri": "https://localhost:8080/",
          "height": 1000
        },
        "outputId": "8d39b8ca-b639-4cfa-f85d-76dfa05b26cd"
      },
      "source": [
        "model.compile(loss='categorical_crossentropy', optimizer='adam')\n",
        "model.fit(X,y, epochs=200)"
      ],
      "execution_count": 20,
      "outputs": [
        {
          "output_type": "stream",
          "text": [
            "Epoch 1/200\n",
            "17/17 [==============================] - 0s 3ms/step - loss: 0.8124\n",
            "Epoch 2/200\n",
            "17/17 [==============================] - 0s 4ms/step - loss: 0.7347\n",
            "Epoch 3/200\n",
            "17/17 [==============================] - 0s 3ms/step - loss: 0.7050\n",
            "Epoch 4/200\n",
            "17/17 [==============================] - 0s 3ms/step - loss: 0.6816\n",
            "Epoch 5/200\n",
            "17/17 [==============================] - 0s 3ms/step - loss: 0.6551\n",
            "Epoch 6/200\n",
            "17/17 [==============================] - 0s 4ms/step - loss: 0.6351\n",
            "Epoch 7/200\n",
            "17/17 [==============================] - 0s 3ms/step - loss: 0.6138\n",
            "Epoch 8/200\n",
            "17/17 [==============================] - 0s 3ms/step - loss: 0.5943\n",
            "Epoch 9/200\n",
            "17/17 [==============================] - 0s 3ms/step - loss: 0.5760\n",
            "Epoch 10/200\n",
            "17/17 [==============================] - 0s 3ms/step - loss: 0.5555\n",
            "Epoch 11/200\n",
            "17/17 [==============================] - 0s 4ms/step - loss: 0.5405\n",
            "Epoch 12/200\n",
            "17/17 [==============================] - 0s 3ms/step - loss: 0.5221\n",
            "Epoch 13/200\n",
            "17/17 [==============================] - 0s 3ms/step - loss: 0.5046\n",
            "Epoch 14/200\n",
            "17/17 [==============================] - 0s 3ms/step - loss: 0.4915\n",
            "Epoch 15/200\n",
            "17/17 [==============================] - 0s 3ms/step - loss: 0.4766\n",
            "Epoch 16/200\n",
            "17/17 [==============================] - 0s 3ms/step - loss: 0.4631\n",
            "Epoch 17/200\n",
            "17/17 [==============================] - 0s 3ms/step - loss: 0.4484\n",
            "Epoch 18/200\n",
            "17/17 [==============================] - 0s 3ms/step - loss: 0.4378\n",
            "Epoch 19/200\n",
            "17/17 [==============================] - 0s 3ms/step - loss: 0.4251\n",
            "Epoch 20/200\n",
            "17/17 [==============================] - 0s 3ms/step - loss: 0.4110\n",
            "Epoch 21/200\n",
            "17/17 [==============================] - 0s 4ms/step - loss: 0.3994\n",
            "Epoch 22/200\n",
            "17/17 [==============================] - 0s 4ms/step - loss: 0.3884\n",
            "Epoch 23/200\n",
            "17/17 [==============================] - 0s 3ms/step - loss: 0.3758\n",
            "Epoch 24/200\n",
            "17/17 [==============================] - 0s 3ms/step - loss: 0.3674\n",
            "Epoch 25/200\n",
            "17/17 [==============================] - 0s 3ms/step - loss: 0.3582\n",
            "Epoch 26/200\n",
            "17/17 [==============================] - 0s 3ms/step - loss: 0.3486\n",
            "Epoch 27/200\n",
            "17/17 [==============================] - 0s 3ms/step - loss: 0.3391\n",
            "Epoch 28/200\n",
            "17/17 [==============================] - 0s 3ms/step - loss: 0.3294\n",
            "Epoch 29/200\n",
            "17/17 [==============================] - 0s 3ms/step - loss: 0.3207\n",
            "Epoch 30/200\n",
            "17/17 [==============================] - 0s 3ms/step - loss: 0.3134\n",
            "Epoch 31/200\n",
            "17/17 [==============================] - 0s 3ms/step - loss: 0.3057\n",
            "Epoch 32/200\n",
            "17/17 [==============================] - 0s 3ms/step - loss: 0.2978\n",
            "Epoch 33/200\n",
            "17/17 [==============================] - 0s 3ms/step - loss: 0.2910\n",
            "Epoch 34/200\n",
            "17/17 [==============================] - 0s 3ms/step - loss: 0.2836\n",
            "Epoch 35/200\n",
            "17/17 [==============================] - 0s 3ms/step - loss: 0.2762\n",
            "Epoch 36/200\n",
            "17/17 [==============================] - 0s 4ms/step - loss: 0.2695\n",
            "Epoch 37/200\n",
            "17/17 [==============================] - 0s 3ms/step - loss: 0.2648\n",
            "Epoch 38/200\n",
            "17/17 [==============================] - 0s 4ms/step - loss: 0.2578\n",
            "Epoch 39/200\n",
            "17/17 [==============================] - 0s 3ms/step - loss: 0.2516\n",
            "Epoch 40/200\n",
            "17/17 [==============================] - 0s 3ms/step - loss: 0.2475\n",
            "Epoch 41/200\n",
            "17/17 [==============================] - 0s 3ms/step - loss: 0.2409\n",
            "Epoch 42/200\n",
            "17/17 [==============================] - 0s 4ms/step - loss: 0.2345\n",
            "Epoch 43/200\n",
            "17/17 [==============================] - 0s 3ms/step - loss: 0.2306\n",
            "Epoch 44/200\n",
            "17/17 [==============================] - 0s 3ms/step - loss: 0.2249\n",
            "Epoch 45/200\n",
            "17/17 [==============================] - 0s 3ms/step - loss: 0.2204\n",
            "Epoch 46/200\n",
            "17/17 [==============================] - 0s 3ms/step - loss: 0.2158\n",
            "Epoch 47/200\n",
            "17/17 [==============================] - 0s 3ms/step - loss: 0.2122\n",
            "Epoch 48/200\n",
            "17/17 [==============================] - 0s 3ms/step - loss: 0.2065\n",
            "Epoch 49/200\n",
            "17/17 [==============================] - 0s 3ms/step - loss: 0.2032\n",
            "Epoch 50/200\n",
            "17/17 [==============================] - 0s 5ms/step - loss: 0.2005\n",
            "Epoch 51/200\n",
            "17/17 [==============================] - 0s 4ms/step - loss: 0.1967\n",
            "Epoch 52/200\n",
            "17/17 [==============================] - 0s 3ms/step - loss: 0.1906\n",
            "Epoch 53/200\n",
            "17/17 [==============================] - 0s 3ms/step - loss: 0.1876\n",
            "Epoch 54/200\n",
            "17/17 [==============================] - 0s 3ms/step - loss: 0.1848\n",
            "Epoch 55/200\n",
            "17/17 [==============================] - 0s 3ms/step - loss: 0.1807\n",
            "Epoch 56/200\n",
            "17/17 [==============================] - 0s 3ms/step - loss: 0.1790\n",
            "Epoch 57/200\n",
            "17/17 [==============================] - 0s 3ms/step - loss: 0.1742\n",
            "Epoch 58/200\n",
            "17/17 [==============================] - 0s 4ms/step - loss: 0.1715\n",
            "Epoch 59/200\n",
            "17/17 [==============================] - 0s 3ms/step - loss: 0.1686\n",
            "Epoch 60/200\n",
            "17/17 [==============================] - 0s 3ms/step - loss: 0.1652\n",
            "Epoch 61/200\n",
            "17/17 [==============================] - 0s 3ms/step - loss: 0.1641\n",
            "Epoch 62/200\n",
            "17/17 [==============================] - 0s 3ms/step - loss: 0.1602\n",
            "Epoch 63/200\n",
            "17/17 [==============================] - 0s 3ms/step - loss: 0.1594\n",
            "Epoch 64/200\n",
            "17/17 [==============================] - 0s 3ms/step - loss: 0.1565\n",
            "Epoch 65/200\n",
            "17/17 [==============================] - 0s 3ms/step - loss: 0.1534\n",
            "Epoch 66/200\n",
            "17/17 [==============================] - 0s 3ms/step - loss: 0.1512\n",
            "Epoch 67/200\n",
            "17/17 [==============================] - 0s 3ms/step - loss: 0.1503\n",
            "Epoch 68/200\n",
            "17/17 [==============================] - 0s 3ms/step - loss: 0.1488\n",
            "Epoch 69/200\n",
            "17/17 [==============================] - 0s 4ms/step - loss: 0.1465\n",
            "Epoch 70/200\n",
            "17/17 [==============================] - 0s 3ms/step - loss: 0.1448\n",
            "Epoch 71/200\n",
            "17/17 [==============================] - 0s 3ms/step - loss: 0.1416\n",
            "Epoch 72/200\n",
            "17/17 [==============================] - 0s 3ms/step - loss: 0.1404\n",
            "Epoch 73/200\n",
            "17/17 [==============================] - 0s 3ms/step - loss: 0.1406\n",
            "Epoch 74/200\n",
            "17/17 [==============================] - 0s 4ms/step - loss: 0.1358\n",
            "Epoch 75/200\n",
            "17/17 [==============================] - 0s 3ms/step - loss: 0.1345\n",
            "Epoch 76/200\n",
            "17/17 [==============================] - 0s 3ms/step - loss: 0.1323\n",
            "Epoch 77/200\n",
            "17/17 [==============================] - 0s 3ms/step - loss: 0.1305\n",
            "Epoch 78/200\n",
            "17/17 [==============================] - 0s 3ms/step - loss: 0.1287\n",
            "Epoch 79/200\n",
            "17/17 [==============================] - 0s 3ms/step - loss: 0.1292\n",
            "Epoch 80/200\n",
            "17/17 [==============================] - 0s 3ms/step - loss: 0.1264\n",
            "Epoch 81/200\n",
            "17/17 [==============================] - 0s 3ms/step - loss: 0.1252\n",
            "Epoch 82/200\n",
            "17/17 [==============================] - 0s 3ms/step - loss: 0.1246\n",
            "Epoch 83/200\n",
            "17/17 [==============================] - 0s 3ms/step - loss: 0.1220\n",
            "Epoch 84/200\n",
            "17/17 [==============================] - 0s 4ms/step - loss: 0.1211\n",
            "Epoch 85/200\n",
            "17/17 [==============================] - 0s 4ms/step - loss: 0.1208\n",
            "Epoch 86/200\n",
            "17/17 [==============================] - 0s 3ms/step - loss: 0.1194\n",
            "Epoch 87/200\n",
            "17/17 [==============================] - 0s 3ms/step - loss: 0.1181\n",
            "Epoch 88/200\n",
            "17/17 [==============================] - 0s 4ms/step - loss: 0.1166\n",
            "Epoch 89/200\n",
            "17/17 [==============================] - 0s 4ms/step - loss: 0.1148\n",
            "Epoch 90/200\n",
            "17/17 [==============================] - 0s 3ms/step - loss: 0.1129\n",
            "Epoch 91/200\n",
            "17/17 [==============================] - 0s 3ms/step - loss: 0.1121\n",
            "Epoch 92/200\n",
            "17/17 [==============================] - 0s 3ms/step - loss: 0.1127\n",
            "Epoch 93/200\n",
            "17/17 [==============================] - 0s 3ms/step - loss: 0.1115\n",
            "Epoch 94/200\n",
            "17/17 [==============================] - 0s 3ms/step - loss: 0.1094\n",
            "Epoch 95/200\n",
            "17/17 [==============================] - 0s 3ms/step - loss: 0.1100\n",
            "Epoch 96/200\n",
            "17/17 [==============================] - 0s 3ms/step - loss: 0.1087\n",
            "Epoch 97/200\n",
            "17/17 [==============================] - 0s 3ms/step - loss: 0.1080\n",
            "Epoch 98/200\n",
            "17/17 [==============================] - 0s 4ms/step - loss: 0.1081\n",
            "Epoch 99/200\n",
            "17/17 [==============================] - 0s 3ms/step - loss: 0.1051\n",
            "Epoch 100/200\n",
            "17/17 [==============================] - 0s 3ms/step - loss: 0.1050\n",
            "Epoch 101/200\n",
            "17/17 [==============================] - 0s 4ms/step - loss: 0.1056\n",
            "Epoch 102/200\n",
            "17/17 [==============================] - 0s 3ms/step - loss: 0.1042\n",
            "Epoch 103/200\n",
            "17/17 [==============================] - 0s 3ms/step - loss: 0.1030\n",
            "Epoch 104/200\n",
            "17/17 [==============================] - 0s 3ms/step - loss: 0.1043\n",
            "Epoch 105/200\n",
            "17/17 [==============================] - 0s 4ms/step - loss: 0.1024\n",
            "Epoch 106/200\n",
            "17/17 [==============================] - 0s 3ms/step - loss: 0.1001\n",
            "Epoch 107/200\n",
            "17/17 [==============================] - 0s 3ms/step - loss: 0.0994\n",
            "Epoch 108/200\n",
            "17/17 [==============================] - 0s 3ms/step - loss: 0.0974\n",
            "Epoch 109/200\n",
            "17/17 [==============================] - 0s 3ms/step - loss: 0.0983\n",
            "Epoch 110/200\n",
            "17/17 [==============================] - 0s 3ms/step - loss: 0.0987\n",
            "Epoch 111/200\n",
            "17/17 [==============================] - 0s 4ms/step - loss: 0.0979\n",
            "Epoch 112/200\n",
            "17/17 [==============================] - 0s 3ms/step - loss: 0.0975\n",
            "Epoch 113/200\n",
            "17/17 [==============================] - 0s 3ms/step - loss: 0.0967\n",
            "Epoch 114/200\n",
            "17/17 [==============================] - 0s 3ms/step - loss: 0.0951\n",
            "Epoch 115/200\n",
            "17/17 [==============================] - 0s 3ms/step - loss: 0.0936\n",
            "Epoch 116/200\n",
            "17/17 [==============================] - 0s 4ms/step - loss: 0.0934\n",
            "Epoch 117/200\n",
            "17/17 [==============================] - 0s 3ms/step - loss: 0.0956\n",
            "Epoch 118/200\n",
            "17/17 [==============================] - 0s 3ms/step - loss: 0.0971\n",
            "Epoch 119/200\n",
            "17/17 [==============================] - 0s 3ms/step - loss: 0.0936\n",
            "Epoch 120/200\n",
            "17/17 [==============================] - 0s 4ms/step - loss: 0.0920\n",
            "Epoch 121/200\n",
            "17/17 [==============================] - 0s 3ms/step - loss: 0.0923\n",
            "Epoch 122/200\n",
            "17/17 [==============================] - 0s 3ms/step - loss: 0.0922\n",
            "Epoch 123/200\n",
            "17/17 [==============================] - 0s 3ms/step - loss: 0.0913\n",
            "Epoch 124/200\n",
            "17/17 [==============================] - 0s 3ms/step - loss: 0.0916\n",
            "Epoch 125/200\n",
            "17/17 [==============================] - 0s 3ms/step - loss: 0.0920\n",
            "Epoch 126/200\n",
            "17/17 [==============================] - 0s 3ms/step - loss: 0.0901\n",
            "Epoch 127/200\n",
            "17/17 [==============================] - 0s 3ms/step - loss: 0.0896\n",
            "Epoch 128/200\n",
            "17/17 [==============================] - 0s 3ms/step - loss: 0.0887\n",
            "Epoch 129/200\n",
            "17/17 [==============================] - 0s 3ms/step - loss: 0.0876\n",
            "Epoch 130/200\n",
            "17/17 [==============================] - 0s 3ms/step - loss: 0.0878\n",
            "Epoch 131/200\n",
            "17/17 [==============================] - 0s 3ms/step - loss: 0.0886\n",
            "Epoch 132/200\n",
            "17/17 [==============================] - 0s 4ms/step - loss: 0.0867\n",
            "Epoch 133/200\n",
            "17/17 [==============================] - 0s 3ms/step - loss: 0.0870\n",
            "Epoch 134/200\n",
            "17/17 [==============================] - 0s 3ms/step - loss: 0.0866\n",
            "Epoch 135/200\n",
            "17/17 [==============================] - 0s 3ms/step - loss: 0.0867\n",
            "Epoch 136/200\n",
            "17/17 [==============================] - 0s 4ms/step - loss: 0.0862\n",
            "Epoch 137/200\n",
            "17/17 [==============================] - 0s 3ms/step - loss: 0.0846\n",
            "Epoch 138/200\n",
            "17/17 [==============================] - 0s 3ms/step - loss: 0.0847\n",
            "Epoch 139/200\n",
            "17/17 [==============================] - 0s 3ms/step - loss: 0.0841\n",
            "Epoch 140/200\n",
            "17/17 [==============================] - 0s 3ms/step - loss: 0.0838\n",
            "Epoch 141/200\n",
            "17/17 [==============================] - 0s 4ms/step - loss: 0.0847\n",
            "Epoch 142/200\n",
            "17/17 [==============================] - 0s 3ms/step - loss: 0.0816\n",
            "Epoch 143/200\n",
            "17/17 [==============================] - 0s 3ms/step - loss: 0.0825\n",
            "Epoch 144/200\n",
            "17/17 [==============================] - 0s 3ms/step - loss: 0.0825\n",
            "Epoch 145/200\n",
            "17/17 [==============================] - 0s 3ms/step - loss: 0.0828\n",
            "Epoch 146/200\n",
            "17/17 [==============================] - 0s 3ms/step - loss: 0.0822\n",
            "Epoch 147/200\n",
            "17/17 [==============================] - 0s 3ms/step - loss: 0.0819\n",
            "Epoch 148/200\n",
            "17/17 [==============================] - 0s 4ms/step - loss: 0.0808\n",
            "Epoch 149/200\n",
            "17/17 [==============================] - 0s 3ms/step - loss: 0.0808\n",
            "Epoch 150/200\n",
            "17/17 [==============================] - 0s 3ms/step - loss: 0.0820\n",
            "Epoch 151/200\n",
            "17/17 [==============================] - 0s 3ms/step - loss: 0.0815\n",
            "Epoch 152/200\n",
            "17/17 [==============================] - 0s 4ms/step - loss: 0.0807\n",
            "Epoch 153/200\n",
            "17/17 [==============================] - 0s 3ms/step - loss: 0.0794\n",
            "Epoch 154/200\n",
            "17/17 [==============================] - 0s 3ms/step - loss: 0.0814\n",
            "Epoch 155/200\n",
            "17/17 [==============================] - 0s 3ms/step - loss: 0.0812\n",
            "Epoch 156/200\n",
            "17/17 [==============================] - 0s 3ms/step - loss: 0.0800\n",
            "Epoch 157/200\n",
            "17/17 [==============================] - 0s 3ms/step - loss: 0.0814\n",
            "Epoch 158/200\n",
            "17/17 [==============================] - 0s 3ms/step - loss: 0.0805\n",
            "Epoch 159/200\n",
            "17/17 [==============================] - 0s 4ms/step - loss: 0.0791\n",
            "Epoch 160/200\n",
            "17/17 [==============================] - 0s 3ms/step - loss: 0.0790\n",
            "Epoch 161/200\n",
            "17/17 [==============================] - 0s 3ms/step - loss: 0.0784\n",
            "Epoch 162/200\n",
            "17/17 [==============================] - 0s 4ms/step - loss: 0.0788\n",
            "Epoch 163/200\n",
            "17/17 [==============================] - 0s 4ms/step - loss: 0.0772\n",
            "Epoch 164/200\n",
            "17/17 [==============================] - 0s 3ms/step - loss: 0.0783\n",
            "Epoch 165/200\n",
            "17/17 [==============================] - 0s 3ms/step - loss: 0.0783\n",
            "Epoch 166/200\n",
            "17/17 [==============================] - 0s 3ms/step - loss: 0.0762\n",
            "Epoch 167/200\n",
            "17/17 [==============================] - 0s 4ms/step - loss: 0.0782\n",
            "Epoch 168/200\n",
            "17/17 [==============================] - 0s 3ms/step - loss: 0.0769\n",
            "Epoch 169/200\n",
            "17/17 [==============================] - 0s 3ms/step - loss: 0.0778\n",
            "Epoch 170/200\n",
            "17/17 [==============================] - 0s 3ms/step - loss: 0.0784\n",
            "Epoch 171/200\n",
            "17/17 [==============================] - 0s 3ms/step - loss: 0.0747\n",
            "Epoch 172/200\n",
            "17/17 [==============================] - 0s 3ms/step - loss: 0.0775\n",
            "Epoch 173/200\n",
            "17/17 [==============================] - 0s 3ms/step - loss: 0.0783\n",
            "Epoch 174/200\n",
            "17/17 [==============================] - 0s 3ms/step - loss: 0.0761\n",
            "Epoch 175/200\n",
            "17/17 [==============================] - 0s 3ms/step - loss: 0.0762\n",
            "Epoch 176/200\n",
            "17/17 [==============================] - 0s 3ms/step - loss: 0.0755\n",
            "Epoch 177/200\n",
            "17/17 [==============================] - 0s 3ms/step - loss: 0.0742\n",
            "Epoch 178/200\n",
            "17/17 [==============================] - 0s 3ms/step - loss: 0.0756\n",
            "Epoch 179/200\n",
            "17/17 [==============================] - 0s 3ms/step - loss: 0.0746\n",
            "Epoch 180/200\n",
            "17/17 [==============================] - 0s 4ms/step - loss: 0.0749\n",
            "Epoch 181/200\n",
            "17/17 [==============================] - 0s 3ms/step - loss: 0.0747\n",
            "Epoch 182/200\n",
            "17/17 [==============================] - 0s 3ms/step - loss: 0.0749\n",
            "Epoch 183/200\n",
            "17/17 [==============================] - 0s 4ms/step - loss: 0.0755\n",
            "Epoch 184/200\n",
            "17/17 [==============================] - 0s 3ms/step - loss: 0.0744\n",
            "Epoch 185/200\n",
            "17/17 [==============================] - 0s 3ms/step - loss: 0.0735\n",
            "Epoch 186/200\n",
            "17/17 [==============================] - 0s 3ms/step - loss: 0.0731\n",
            "Epoch 187/200\n",
            "17/17 [==============================] - 0s 3ms/step - loss: 0.0731\n",
            "Epoch 188/200\n",
            "17/17 [==============================] - 0s 3ms/step - loss: 0.0734\n",
            "Epoch 189/200\n",
            "17/17 [==============================] - 0s 3ms/step - loss: 0.0738\n",
            "Epoch 190/200\n",
            "17/17 [==============================] - 0s 3ms/step - loss: 0.0736\n",
            "Epoch 191/200\n",
            "17/17 [==============================] - 0s 3ms/step - loss: 0.0725\n",
            "Epoch 192/200\n",
            "17/17 [==============================] - 0s 3ms/step - loss: 0.0718\n",
            "Epoch 193/200\n",
            "17/17 [==============================] - 0s 3ms/step - loss: 0.0732\n",
            "Epoch 194/200\n",
            "17/17 [==============================] - 0s 3ms/step - loss: 0.0737\n",
            "Epoch 195/200\n",
            "17/17 [==============================] - 0s 3ms/step - loss: 0.0748\n",
            "Epoch 196/200\n",
            "17/17 [==============================] - 0s 4ms/step - loss: 0.0756\n",
            "Epoch 197/200\n",
            "17/17 [==============================] - 0s 3ms/step - loss: 0.0728\n",
            "Epoch 198/200\n",
            "17/17 [==============================] - 0s 3ms/step - loss: 0.0722\n",
            "Epoch 199/200\n",
            "17/17 [==============================] - 0s 4ms/step - loss: 0.0743\n",
            "Epoch 200/200\n",
            "17/17 [==============================] - 0s 3ms/step - loss: 0.0734\n"
          ],
          "name": "stdout"
        },
        {
          "output_type": "execute_result",
          "data": {
            "text/plain": [
              "<tensorflow.python.keras.callbacks.History at 0x7fee31af19b0>"
            ]
          },
          "metadata": {
            "tags": []
          },
          "execution_count": 20
        }
      ]
    },
    {
      "cell_type": "markdown",
      "metadata": {
        "id": "a4xt33tv1Ksc",
        "colab_type": "text"
      },
      "source": [
        "# Demo"
      ]
    },
    {
      "cell_type": "code",
      "metadata": {
        "id": "KA7dqKMrUKQw",
        "colab_type": "code",
        "colab": {
          "base_uri": "https://localhost:8080/",
          "height": 34
        },
        "outputId": "31894894-2aba-4777-cf44-9358a415cd87"
      },
      "source": [
        "unfinished = \"He put his coffee next \"\n",
        "# we follow the same preprocessing steps as done in training\n",
        "unfinished_words = nltk.word_tokenize(unfinished.lower())\n",
        "unfinished_words = [word for word in unfinished_words if word.isalpha()]\n",
        "X_unfinished = np.asarray(universal_sentence_encoder([' '.join(unfinished_words[-10:])]))\n",
        "prediction = unique_words[np.argmax(model.predict(X_unfinished))]\n",
        "prediction"
      ],
      "execution_count": 35,
      "outputs": [
        {
          "output_type": "execute_result",
          "data": {
            "text/plain": [
              "'house'"
            ]
          },
          "metadata": {
            "tags": []
          },
          "execution_count": 35
        }
      ]
    }
  ]
}